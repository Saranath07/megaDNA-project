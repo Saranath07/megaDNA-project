{
 "cells": [
  {
   "cell_type": "code",
   "execution_count": 1,
   "id": "c0356d10-947d-4b71-bdc8-77317d6cfac2",
   "metadata": {},
   "outputs": [
    {
     "ename": "ModuleNotFoundError",
     "evalue": "No module named 'BCBio'",
     "output_type": "error",
     "traceback": [
      "\u001b[0;31m---------------------------------------------------------------------------\u001b[0m",
      "\u001b[0;31mModuleNotFoundError\u001b[0m                       Traceback (most recent call last)",
      "Cell \u001b[0;32mIn[1], line 3\u001b[0m\n\u001b[1;32m      1\u001b[0m \u001b[38;5;28;01mimport\u001b[39;00m\u001b[38;5;250m \u001b[39m\u001b[38;5;21;01mtorch\u001b[39;00m\n\u001b[1;32m      2\u001b[0m \u001b[38;5;28;01mfrom\u001b[39;00m\u001b[38;5;250m \u001b[39m\u001b[38;5;21;01mBio\u001b[39;00m\u001b[38;5;250m \u001b[39m\u001b[38;5;28;01mimport\u001b[39;00m SeqIO\n\u001b[0;32m----> 3\u001b[0m \u001b[38;5;28;01mfrom\u001b[39;00m\u001b[38;5;250m \u001b[39m\u001b[38;5;21;01mBCBio\u001b[39;00m\u001b[38;5;250m \u001b[39m\u001b[38;5;28;01mimport\u001b[39;00m GFF\n\u001b[1;32m      4\u001b[0m \u001b[38;5;28;01mimport\u001b[39;00m\u001b[38;5;250m \u001b[39m\u001b[38;5;21;01mrandom\u001b[39;00m\n\u001b[1;32m      6\u001b[0m \u001b[38;5;66;03m# load the model\u001b[39;00m\n",
      "\u001b[0;31mModuleNotFoundError\u001b[0m: No module named 'BCBio'"
     ]
    }
   ],
   "source": [
    "import torch\n",
    "from Bio import SeqIO\n",
    "from BCBio import GFF\n",
    "import random\n",
    "\n",
    "# load the model\n",
    "model_path = \"megaDNA_phage_145M.pt\" # model name\n",
    "device = 'cuda' if torch.cuda.is_available() else 'cpu'  # Device configuration\n",
    "\n",
    "model = torch.load(model_path, map_location=torch.device(device))\n",
    "model.eval() "
   ]
  },
  {
   "cell_type": "markdown",
   "id": "4a8c0f1b",
   "metadata": {},
   "source": [
    "Please download the fasta file and gene annotation for lambda phage from https://www.ncbi.nlm.nih.gov/nuccore/NC_001416.1"
   ]
  },
  {
   "cell_type": "code",
   "execution_count": 12,
   "id": "48471cd7",
   "metadata": {},
   "outputs": [],
   "source": [
    "# Read the FASTA file\n",
    "fasta_file_path = \"NC_001416.1.fasta\"\n",
    "seq_ids, sequences = [], []\n",
    "\n",
    "with open(fasta_file_path, \"r\") as fasta_file:\n",
    "    for record in SeqIO.parse(fasta_file, \"fasta\"):\n",
    "        seq_ids.append(record.id)\n",
    "        sequences.append(str(record.seq))\n",
    "\n",
    "# Read the gene annotations\n",
    "gff_file_path = \"NC_001416.1.gff3\"\n",
    "limit_info = dict(gff_type=[\"CDS\"])\n",
    "\n",
    "start_position, end_position, strand_position = [], [], []\n",
    "\n",
    "with open(gff_file_path) as in_handle:\n",
    "    for rec in GFF.parse(in_handle, limit_info=limit_info):\n",
    "        start_position.extend(feature.location.start for feature in rec.features)\n",
    "        end_position.extend(feature.location.end for feature in rec.features)\n",
    "        strand_position.extend(feature.location.strand for feature in rec.features)\n"
   ]
  },
  {
   "cell_type": "code",
   "execution_count": 13,
   "id": "3e0b2f2d",
   "metadata": {},
   "outputs": [
    {
     "name": "stdout",
     "output_type": "stream",
     "text": [
      "tensor(1.2624, device='cuda:0')\n"
     ]
    }
   ],
   "source": [
    "nt = ['**', 'A', 'T', 'C', 'G', '#']  # Vocabulary\n",
    "seq_id = 0  # Sequence ID\n",
    "\n",
    "def encode_sequence(sequence, nt_vocab=nt):\n",
    "    \"\"\"Encode a DNA sequence to its numerical representation.\"\"\"\n",
    "    return [0] + [nt_vocab.index(nucleotide) if nucleotide in nt_vocab else 1 for nucleotide in sequence] + [5]\n",
    "\n",
    "def get_loss_for_sequence(model, sequence, device):\n",
    "    \"\"\"Get model loss for a given sequence.\"\"\"\n",
    "    input_seq = torch.tensor(sequence).unsqueeze(0).to(device)\n",
    "    with torch.no_grad():\n",
    "        loss = model(input_seq, return_value='loss')\n",
    "    return loss\n",
    "\n",
    "# Get the model loss for the WT sequence\n",
    "encoded_wt_sequence = encode_sequence(sequences[seq_id])\n",
    "wt_loss = get_loss_for_sequence(model, encoded_wt_sequence, device)\n",
    "print(wt_loss)\n",
    "\n",
    "# Get the model loss for the mutants in the start codons\n",
    "loss_start = []\n",
    "random.seed(42)\n",
    "for j, (start, end, strand) in enumerate(zip(start_position, end_position, strand_position)):\n",
    "    encoded_mutant_sequence = encode_sequence(sequences[seq_id])\n",
    "    \n",
    "    # Mutate start codon positions based on strand orientation\n",
    "    positions = range(start+1, start+4) if strand == 1 else range(end-2, end+1)\n",
    "    for i in positions:\n",
    "        encoded_mutant_sequence[i] = random.choice([1, 2, 3, 4])\n",
    "    \n",
    "    # Get model loss for mutated sequence\n",
    "    mutant_loss = get_loss_for_sequence(model, encoded_mutant_sequence, device)\n",
    "    loss_start.append(mutant_loss)"
   ]
  },
  {
   "cell_type": "code",
   "execution_count": null,
   "id": "9b01cb45",
   "metadata": {},
   "outputs": [],
   "source": []
  }
 ],
 "metadata": {
  "kernelspec": {
   "display_name": "Python 3",
   "language": "python",
   "name": "python3"
  },
  "language_info": {
   "codemirror_mode": {
    "name": "ipython",
    "version": 3
   },
   "file_extension": ".py",
   "mimetype": "text/x-python",
   "name": "python",
   "nbconvert_exporter": "python",
   "pygments_lexer": "ipython3",
   "version": "3.10.12"
  }
 },
 "nbformat": 4,
 "nbformat_minor": 5
}
